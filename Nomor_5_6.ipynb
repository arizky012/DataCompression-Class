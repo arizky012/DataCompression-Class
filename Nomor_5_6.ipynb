{
  "nbformat": 4,
  "nbformat_minor": 0,
  "metadata": {
    "colab": {
      "name": "Nomor-5-6.ipynb",
      "provenance": [],
      "authorship_tag": "ABX9TyNu2xQUT70+c80gsvYwp5p1",
      "include_colab_link": true
    },
    "kernelspec": {
      "name": "python3",
      "display_name": "Python 3"
    },
    "accelerator": "GPU"
  },
  "cells": [
    {
      "cell_type": "markdown",
      "metadata": {
        "id": "view-in-github",
        "colab_type": "text"
      },
      "source": [
        "<a href=\"https://colab.research.google.com/github/arizky012/DataCompression-Class/blob/master/Nomor_5_6.ipynb\" target=\"_parent\"><img src=\"https://colab.research.google.com/assets/colab-badge.svg\" alt=\"Open In Colab\"/></a>"
      ]
    },
    {
      "cell_type": "code",
      "metadata": {
        "id": "FAxklf_UUDCk",
        "colab_type": "code",
        "colab": {}
      },
      "source": [
        "\n",
        "import numpy as np\n",
        "import scipy\n",
        "import matplotlib.pyplot as plt\n",
        "import huffman\n",
        "from scipy.fftpack import dct, idct"
      ],
      "execution_count": 0,
      "outputs": []
    },
    {
      "cell_type": "code",
      "metadata": {
        "id": "Q_w2V0S8X5Lx",
        "colab_type": "code",
        "colab": {}
      },
      "source": [
        "def dct2(a):\n",
        "    return scipy.fftpack.dct( scipy.fftpack.dct( a, axis=0, norm='ortho' ), axis=1, norm='ortho' )\n",
        "  \n",
        "def idct2(a):\n",
        "    return scipy.fftpack.idct( scipy.fftpack.idct( a, axis=0 , norm='ortho'), axis=1 , norm='ortho')"
      ],
      "execution_count": 0,
      "outputs": []
    },
    {
      "cell_type": "markdown",
      "metadata": {
        "id": "_zaGKxqtHyOn",
        "colab_type": "text"
      },
      "source": [
        "image"
      ]
    },
    {
      "cell_type": "code",
      "metadata": {
        "id": "2IIdCk5WVBQ2",
        "colab_type": "code",
        "colab": {}
      },
      "source": [
        "im = np.array( [\n",
        "      [1,8,219,51,69,171,81,41],\n",
        "      [94,108,20,121,17,214,15,74],\n",
        "      [233,93,197,83,177,215,183,78],\n",
        "      [41,84,118,62,210,71,122,38],\n",
        "      [222,73,197,248,125,226,210,5],\n",
        "      [35,36,127,5,151,2,197,165],\n",
        "      [196,180,142,52,173,151,243,164],\n",
        "      [254,62,172,75,21,196,126,224]\n",
        "      ])"
      ],
      "execution_count": 0,
      "outputs": []
    },
    {
      "cell_type": "markdown",
      "metadata": {
        "id": "EiyHACMIv4aM",
        "colab_type": "text"
      },
      "source": [
        "Entropy Coding"
      ]
    },
    {
      "cell_type": "code",
      "metadata": {
        "id": "K3A1kgMQfntC",
        "colab_type": "code",
        "colab": {
          "base_uri": "https://localhost:8080/",
          "height": 105
        },
        "outputId": "96f54e9e-7621-484e-bab4-5419709ed480"
      },
      "source": [
        "pip install huffman"
      ],
      "execution_count": 115,
      "outputs": [
        {
          "output_type": "stream",
          "text": [
            "Collecting huffman\n",
            "  Downloading https://files.pythonhosted.org/packages/c5/72/99cf86630e26a02f2ee6ab649465fce7af7723635902cd79af91f6cc60e5/huffman-0.1.2-py2.py3-none-any.whl\n",
            "Installing collected packages: huffman\n",
            "Successfully installed huffman-0.1.2\n"
          ],
          "name": "stdout"
        }
      ]
    },
    {
      "cell_type": "code",
      "metadata": {
        "id": "icbWO8_4v7mW",
        "colab_type": "code",
        "colab": {
          "base_uri": "https://localhost:8080/",
          "height": 187
        },
        "outputId": "59f62945-c79c-49b3-db50-04ebe97e4aa7"
      },
      "source": [
        "huffman.codebook([('0,1',17),('0,2',13),('0,3',6),('0,4',2),('2,1',3),('1,2',2),('1,1',3),('1,3',1),('4,2',1),('0,0',1)])"
      ],
      "execution_count": 123,
      "outputs": [
        {
          "output_type": "execute_result",
          "data": {
            "text/plain": [
              "{'0,0': '00110',\n",
              " '0,1': '11',\n",
              " '0,2': '10',\n",
              " '0,3': '011',\n",
              " '0,4': '0010',\n",
              " '1,1': '0100',\n",
              " '1,2': '0001',\n",
              " '1,3': '0000',\n",
              " '2,1': '0101',\n",
              " '4,2': '00111'}"
            ]
          },
          "metadata": {
            "tags": []
          },
          "execution_count": 123
        }
      ]
    },
    {
      "cell_type": "markdown",
      "metadata": {
        "id": "4TIlSMsVbp_d",
        "colab_type": "text"
      },
      "source": [
        "# Encode"
      ]
    },
    {
      "cell_type": "code",
      "metadata": {
        "id": "sn_VgLEQY8qh",
        "colab_type": "code",
        "colab": {}
      },
      "source": [
        "g = im.copy()"
      ],
      "execution_count": 0,
      "outputs": []
    },
    {
      "cell_type": "markdown",
      "metadata": {
        "id": "4AuJNSMtH1-c",
        "colab_type": "text"
      },
      "source": [
        "convert to [-128,127]"
      ]
    },
    {
      "cell_type": "code",
      "metadata": {
        "id": "gNG1DdIUYYI2",
        "colab_type": "code",
        "colab": {}
      },
      "source": [
        "\n",
        "for x in range(8):\n",
        "  for y in range(8):\n",
        "    g[x,y] = im[x,y]-128"
      ],
      "execution_count": 0,
      "outputs": []
    },
    {
      "cell_type": "code",
      "metadata": {
        "id": "Bm-P6MoPWE8K",
        "colab_type": "code",
        "colab": {
          "base_uri": "https://localhost:8080/",
          "height": 153
        },
        "outputId": "f2a7ed91-41bd-4630-c4f8-a2134bdd6e1b"
      },
      "source": [
        "g"
      ],
      "execution_count": 98,
      "outputs": [
        {
          "output_type": "execute_result",
          "data": {
            "text/plain": [
              "array([[-127, -120,   91,  -77,  -59,   43,  -47,  -87],\n",
              "       [ -34,  -20, -108,   -7, -111,   86, -113,  -54],\n",
              "       [ 105,  -35,   69,  -45,   49,   87,   55,  -50],\n",
              "       [ -87,  -44,  -10,  -66,   82,  -57,   -6,  -90],\n",
              "       [  94,  -55,   69,  120,   -3,   98,   82, -123],\n",
              "       [ -93,  -92,   -1, -123,   23, -126,   69,   37],\n",
              "       [  68,   52,   14,  -76,   45,   23,  115,   36],\n",
              "       [ 126,  -66,   44,  -53, -107,   68,   -2,   96]])"
            ]
          },
          "metadata": {
            "tags": []
          },
          "execution_count": 98
        }
      ]
    },
    {
      "cell_type": "markdown",
      "metadata": {
        "id": "JKwq34kMH8cT",
        "colab_type": "text"
      },
      "source": [
        "DCT"
      ]
    },
    {
      "cell_type": "code",
      "metadata": {
        "id": "t8nVVlauYIPk",
        "colab_type": "code",
        "colab": {}
      },
      "source": [
        "G = dct2(g)"
      ],
      "execution_count": 0,
      "outputs": []
    },
    {
      "cell_type": "code",
      "metadata": {
        "id": "wBLSPhVublqp",
        "colab_type": "code",
        "colab": {}
      },
      "source": [
        "for x in range(8):\n",
        "  for y in range(8):\n",
        "    G[x,y] = round(G[x,y],2)"
      ],
      "execution_count": 0,
      "outputs": []
    },
    {
      "cell_type": "code",
      "metadata": {
        "id": "FxFT8-aAhxsE",
        "colab_type": "code",
        "colab": {
          "base_uri": "https://localhost:8080/",
          "height": 289
        },
        "outputId": "487b0b02-9729-49d4-cafd-884e27195860"
      },
      "source": [
        "G"
      ],
      "execution_count": 101,
      "outputs": [
        {
          "output_type": "execute_result",
          "data": {
            "text/plain": [
              "array([[ -53.5 ,  -42.37,   -4.99,   94.09,  -94.25,   82.58,  115.99,\n",
              "          96.96],\n",
              "       [-144.74,   30.63, -165.94,   22.53,  -55.09,  -26.76,   45.39,\n",
              "         -76.5 ],\n",
              "       [ -46.77,  -28.71,  113.62,  -40.93,  -28.33,  -39.12,  131.28,\n",
              "         -87.92],\n",
              "       [ -88.67,  -60.13,  -70.12,  -84.05,  -38.84,   18.38,  -54.63,\n",
              "          53.37],\n",
              "       [ -14.75,   32.48,  -88.16,  -27.56,  -18.  ,   72.99,   76.57,\n",
              "         -12.66],\n",
              "       [  -1.06,  -37.05,  -19.76,  -24.91,  -41.49,  -91.99,  -76.61,\n",
              "         171.35],\n",
              "       [ -16.89,  -47.45,   24.28,  -56.94,   -0.44,   20.51,   59.88,\n",
              "         133.33],\n",
              "       [ 222.41,   79.21,  -18.53,   92.78,  -46.48,  123.71,   58.15,\n",
              "         -18.58]])"
            ]
          },
          "metadata": {
            "tags": []
          },
          "execution_count": 101
        }
      ]
    },
    {
      "cell_type": "code",
      "metadata": {
        "id": "FKbSFjsccVLe",
        "colab_type": "code",
        "colab": {
          "base_uri": "https://localhost:8080/",
          "height": 153
        },
        "outputId": "07759523-e080-4168-aa30-abeaa3276262"
      },
      "source": [
        "for x in range(8):\n",
        "  for y in range(8):\n",
        "    print(\"%.2f\"%G[x,y], end = \"\\t\")\n",
        "  print()"
      ],
      "execution_count": 102,
      "outputs": [
        {
          "output_type": "stream",
          "text": [
            "-53.50\t-42.37\t-4.99\t94.09\t-94.25\t82.58\t115.99\t96.96\t\n",
            "-144.74\t30.63\t-165.94\t22.53\t-55.09\t-26.76\t45.39\t-76.50\t\n",
            "-46.77\t-28.71\t113.62\t-40.93\t-28.33\t-39.12\t131.28\t-87.92\t\n",
            "-88.67\t-60.13\t-70.12\t-84.05\t-38.84\t18.38\t-54.63\t53.37\t\n",
            "-14.75\t32.48\t-88.16\t-27.56\t-18.00\t72.99\t76.57\t-12.66\t\n",
            "-1.06\t-37.05\t-19.76\t-24.91\t-41.49\t-91.99\t-76.61\t171.35\t\n",
            "-16.89\t-47.45\t24.28\t-56.94\t-0.44\t20.51\t59.88\t133.33\t\n",
            "222.41\t79.21\t-18.53\t92.78\t-46.48\t123.71\t58.15\t-18.58\t\n"
          ],
          "name": "stdout"
        }
      ]
    },
    {
      "cell_type": "markdown",
      "metadata": {
        "id": "cY5psLhtIDl8",
        "colab_type": "text"
      },
      "source": [
        "Quantitas matrix ( quality 50% jpg)"
      ]
    },
    {
      "cell_type": "code",
      "metadata": {
        "id": "GRRIjB3DmGED",
        "colab_type": "code",
        "colab": {}
      },
      "source": [
        "Q = np.array([[16,11,10,16,24,40,51,61],\n",
        "             [12,12,14,10,26,58,60,55],\n",
        "             [14,13,16,24,40,57,69,56],\n",
        "             [14,17,22,20,51,87,80,62],\n",
        "             [18,22,37,56,68,109,103,77],\n",
        "             [24,35,55,64,81,104,113,92],\n",
        "             [49,64,78,87,103,121,120,101],\n",
        "             [72,92,95,98,112,100,103,90]]\n",
        "             )"
      ],
      "execution_count": 0,
      "outputs": []
    },
    {
      "cell_type": "code",
      "metadata": {
        "id": "0k43LT5voOiC",
        "colab_type": "code",
        "colab": {}
      },
      "source": [
        "B = Q.copy()"
      ],
      "execution_count": 0,
      "outputs": []
    },
    {
      "cell_type": "markdown",
      "metadata": {
        "id": "a1V-MRrtIMB0",
        "colab_type": "text"
      },
      "source": [
        "Image / Quantitas matrix"
      ]
    },
    {
      "cell_type": "code",
      "metadata": {
        "id": "Vp3Wg6LeoTkc",
        "colab_type": "code",
        "colab": {}
      },
      "source": [
        "for x in range(8):\n",
        "  for y in range(8):\n",
        "    B[x,y] = round(G[x,y]/Q[x,y],0)"
      ],
      "execution_count": 0,
      "outputs": []
    },
    {
      "cell_type": "code",
      "metadata": {
        "id": "nTUKVkw9ojXv",
        "colab_type": "code",
        "colab": {
          "base_uri": "https://localhost:8080/",
          "height": 153
        },
        "outputId": "f15a7a9b-cbc6-4bfe-cff1-3523fbe9e577"
      },
      "source": [
        "B"
      ],
      "execution_count": 106,
      "outputs": [
        {
          "output_type": "execute_result",
          "data": {
            "text/plain": [
              "array([[ -3,  -4,   0,   6,  -4,   2,   2,   2],\n",
              "       [-12,   3, -12,   2,  -2,   0,   1,  -1],\n",
              "       [ -3,  -2,   7,  -2,  -1,  -1,   2,  -2],\n",
              "       [ -6,  -4,  -3,  -4,  -1,   0,  -1,   1],\n",
              "       [ -1,   1,  -2,   0,   0,   1,   1,   0],\n",
              "       [  0,  -1,   0,   0,  -1,  -1,  -1,   2],\n",
              "       [  0,  -1,   0,  -1,   0,   0,   0,   1],\n",
              "       [  3,   1,   0,   1,   0,   1,   1,   0]])"
            ]
          },
          "metadata": {
            "tags": []
          },
          "execution_count": 106
        }
      ]
    },
    {
      "cell_type": "code",
      "metadata": {
        "id": "8OA4Gxm6VgHV",
        "colab_type": "code",
        "colab": {}
      },
      "source": [
        ""
      ],
      "execution_count": 0,
      "outputs": []
    },
    {
      "cell_type": "markdown",
      "metadata": {
        "id": "NYcOJem0IXdb",
        "colab_type": "text"
      },
      "source": [
        "# Decoding"
      ]
    },
    {
      "cell_type": "markdown",
      "metadata": {
        "id": "WtaLAuU2IgAG",
        "colab_type": "text"
      },
      "source": [
        "Matrix * Matrix Kuantitas"
      ]
    },
    {
      "cell_type": "code",
      "metadata": {
        "id": "kYhgjLbDsVL1",
        "colab_type": "code",
        "colab": {}
      },
      "source": [
        "D = B.copy()\n",
        "for x in range(8):\n",
        "  for y in range(8):\n",
        "    D[x,y] = B[x,y]*Q[x,y]"
      ],
      "execution_count": 0,
      "outputs": []
    },
    {
      "cell_type": "code",
      "metadata": {
        "id": "9d7MzcT-8oQf",
        "colab_type": "code",
        "colab": {
          "base_uri": "https://localhost:8080/",
          "height": 153
        },
        "outputId": "6aaf6a0b-a1d9-4e06-ce9a-ba30ca0fbeb5"
      },
      "source": [
        "D"
      ],
      "execution_count": 108,
      "outputs": [
        {
          "output_type": "execute_result",
          "data": {
            "text/plain": [
              "array([[ -48,  -44,    0,   96,  -96,   80,  102,  122],\n",
              "       [-144,   36, -168,   20,  -52,    0,   60,  -55],\n",
              "       [ -42,  -26,  112,  -48,  -40,  -57,  138, -112],\n",
              "       [ -84,  -68,  -66,  -80,  -51,    0,  -80,   62],\n",
              "       [ -18,   22,  -74,    0,    0,  109,  103,    0],\n",
              "       [   0,  -35,    0,    0,  -81, -104, -113,  184],\n",
              "       [   0,  -64,    0,  -87,    0,    0,    0,  101],\n",
              "       [ 216,   92,    0,   98,    0,  100,  103,    0]])"
            ]
          },
          "metadata": {
            "tags": []
          },
          "execution_count": 108
        }
      ]
    },
    {
      "cell_type": "markdown",
      "metadata": {
        "id": "u0CrT-dNIrH3",
        "colab_type": "text"
      },
      "source": [
        "Inverse DCT"
      ]
    },
    {
      "cell_type": "code",
      "metadata": {
        "id": "cxq0LTg59ika",
        "colab_type": "code",
        "colab": {}
      },
      "source": [
        "E = idct2(D)"
      ],
      "execution_count": 0,
      "outputs": []
    },
    {
      "cell_type": "code",
      "metadata": {
        "id": "hVBxGc-w9ntS",
        "colab_type": "code",
        "colab": {}
      },
      "source": [
        "for x in range(8):\n",
        "  for y in range(8):\n",
        "    E[x,y] = round(E[x,y],0)"
      ],
      "execution_count": 0,
      "outputs": []
    },
    {
      "cell_type": "code",
      "metadata": {
        "id": "8EZFusIS_asm",
        "colab_type": "code",
        "colab": {
          "base_uri": "https://localhost:8080/",
          "height": 153
        },
        "outputId": "a0271524-1327-4e56-e4e4-184a5c0e1ef5"
      },
      "source": [
        "for x in range(8):\n",
        "  for y in range(8):\n",
        "    print(\"%.0f\"%E[x,y], end = \"\\t\")\n",
        "  print()"
      ],
      "execution_count": 111,
      "outputs": [
        {
          "output_type": "stream",
          "text": [
            "-123\t-113\t90\t-90\t-50\t41\t-26\t-88\t\n",
            "-28\t-42\t-79\t-4\t-120\t85\t-122\t-60\t\n",
            "99\t-25\t72\t-34\t65\t67\t45\t-39\t\n",
            "-73\t-58\t-11\t-82\t76\t-59\t42\t-119\t\n",
            "134\t-106\t76\t103\t13\t86\t62\t-106\t\n",
            "-148\t-34\t-19\t-101\t40\t-140\t102\t35\t\n",
            "78\t76\t13\t-122\t52\t25\t109\t32\t\n",
            "120\t-68\t37\t-33\t-112\t78\t-12\t108\t\n"
          ],
          "name": "stdout"
        }
      ]
    },
    {
      "cell_type": "markdown",
      "metadata": {
        "id": "bPebTZ66IxEM",
        "colab_type": "text"
      },
      "source": [
        "Convert to [0,256]"
      ]
    },
    {
      "cell_type": "code",
      "metadata": {
        "id": "tPnZRpz390uj",
        "colab_type": "code",
        "colab": {}
      },
      "source": [
        "F = E.copy()\n",
        "for x in range(8):\n",
        "  for y in range(8):\n",
        "    F[x,y] = E[x,y]+128"
      ],
      "execution_count": 0,
      "outputs": []
    },
    {
      "cell_type": "code",
      "metadata": {
        "id": "OKX3yqAL-Dw7",
        "colab_type": "code",
        "colab": {
          "base_uri": "https://localhost:8080/",
          "height": 153
        },
        "outputId": "90676b48-6edc-4d24-a6cb-9ba2ebeae772"
      },
      "source": [
        "for x in range(8):\n",
        "  for y in range(8):\n",
        "    print(\"%.0f\"%F[x,y], end = \"\\t\")\n",
        "  print()"
      ],
      "execution_count": 113,
      "outputs": [
        {
          "output_type": "stream",
          "text": [
            "5\t15\t218\t38\t78\t169\t102\t40\t\n",
            "100\t86\t49\t124\t8\t213\t6\t68\t\n",
            "227\t103\t200\t94\t193\t195\t173\t89\t\n",
            "55\t70\t117\t46\t204\t69\t170\t9\t\n",
            "262\t22\t204\t231\t141\t214\t190\t22\t\n",
            "-20\t94\t109\t27\t168\t-12\t230\t163\t\n",
            "206\t204\t141\t6\t180\t153\t237\t160\t\n",
            "248\t60\t165\t95\t16\t206\t116\t236\t\n"
          ],
          "name": "stdout"
        }
      ]
    },
    {
      "cell_type": "code",
      "metadata": {
        "id": "kIJnlwZVLDZe",
        "colab_type": "code",
        "colab": {
          "base_uri": "https://localhost:8080/",
          "height": 179
        },
        "outputId": "702c0010-08c5-4758-ae09-1ec45cb7d2fc"
      },
      "source": [
        "plt.subplot(1,3,1)\n",
        "plt.title(\"default\")\n",
        "plt.imshow(im, cmap='gray')\n",
        "plt.subplot(1,3,2)\n",
        "plt.title(\"compress\")\n",
        "plt.imshow(B, cmap='gray')\n",
        "plt.subplot(1,3,3)\n",
        "plt.title(\"rekonstruksi\")\n",
        "plt.imshow(F, cmap='gray')"
      ],
      "execution_count": 114,
      "outputs": [
        {
          "output_type": "execute_result",
          "data": {
            "text/plain": [
              "<matplotlib.image.AxesImage at 0x7f893d4a6908>"
            ]
          },
          "metadata": {
            "tags": []
          },
          "execution_count": 114
        },
        {
          "output_type": "display_data",
          "data": {
            "image/png": "[encoded data removed]",
            "text/plain": [
              "<Figure size 432x288 with 3 Axes>"
            ]
          },
          "metadata": {
            "tags": [],
            "needs_background": "light"
          }
        }
      ]
    }
  ]
}